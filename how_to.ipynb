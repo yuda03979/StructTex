{
 "cells": [
  {
   "metadata": {},
   "cell_type": "markdown",
   "source": [
    "# context:\n",
    "\n",
    "inputs:\n",
    "- rule type: {type_name, params_schema, params_description, id}. params should be:\n",
    "- free text for extracting params from it according to the type_name and the schema\n",
    "\n",
    "output:\n",
    "- json with the fields"
   ],
   "id": "3c962fdf37f4f721"
  },
  {
   "cell_type": "code",
   "execution_count": null,
   "id": "initial_id",
   "metadata": {
    "collapsed": true
   },
   "outputs": [],
   "source": "import StrucTex"
  },
  {
   "metadata": {},
   "cell_type": "markdown",
   "source": "# init",
   "id": "892f06bde17f889f"
  },
  {
   "metadata": {},
   "cell_type": "code",
   "outputs": [],
   "execution_count": null,
   "source": [
    "structex = StrucTex(\n",
    "    project_directory = \"\",\n",
    ")"
   ],
   "id": "8c0481d83257f7da"
  },
  {
   "metadata": {},
   "cell_type": "markdown",
   "source": "# initialize parts",
   "id": "4feeee0a4f0dad5d"
  },
  {
   "metadata": {},
   "cell_type": "code",
   "outputs": [],
   "execution_count": null,
   "source": [
    "\n",
    "# it should get dict, and save it to csv db_directory. you can use only those fields for the prompts.\n",
    "\n",
    "\n",
    "\n",
    "# maybe to add read from csv.\n",
    "\n",
    "\n",
    "# example usage:\n",
    "# database_1.add_type(\n",
    "#     rule_type = \"\"\n",
    "# )"
   ],
   "id": "beb966cf06b06f3c"
  },
  {
   "metadata": {},
   "cell_type": "code",
   "outputs": [],
   "execution_count": null,
   "source": [
    "structex.globals(\n",
    "    gemma_path = \"\"\n",
    "    \n",
    ")"
   ],
   "id": "ef5cd6da49c3500a"
  },
  {
   "metadata": {},
   "cell_type": "code",
   "outputs": [],
   "execution_count": null,
   "source": [
    "structex.start().link()\n",
    "\n",
    "\n",
    "rag = structex.rag(\n",
    "    task = \"\",\n",
    "    model_name = \"\",\n",
    ")\n",
    "database = structex.db(\n",
    "    expecting_fields = {\"func_1\", \"func_2\", \"func_3\"} # and so on.\n",
    ")\n",
    "\n",
    "\n",
    "prompt = structex.prompt(\n",
    "    prompt = \"\",\n",
    "    prompt_vars = {},\n",
    ").link(\n",
    "    prev = [rag, database],\n",
    "    params={\"type_name\", \"free_text\", \"schema\"}\n",
    ")\n",
    "\n",
    "\n",
    "llm = structex.llm(\n",
    "    task = \"json\",\n",
    "    model_name = \"\"\n",
    ").checkpoint(\n",
    "    prev=[prompt],\n",
    "    params={\"prompt_directory\"}\n",
    ")\n",
    "\n",
    "\n",
    "def your_function(\n",
    "        params,  # required\n",
    "        func_1=\"func_1\"\n",
    "):\n",
    "    params[func_1] = params[func_1].lower()\n",
    "    return params\n",
    "    \n",
    "post_processing = structex.custom(\n",
    "    func=your_function\n",
    ").checkpoint(\n",
    "    prev=[llm],\n",
    "    params={\"func_1\"}\n",
    ")"
   ],
   "id": "d7871d04bdd78060"
  },
  {
   "metadata": {},
   "cell_type": "code",
   "outputs": [],
   "execution_count": null,
   "source": [
    "process = structex.start\n",
    "process.flow(free_text)"
   ],
   "id": "6860ed71de8fca00"
  },
  {
   "metadata": {},
   "cell_type": "markdown",
   "source": "### set the flow ",
   "id": "3101acda3837f717"
  },
  {
   "metadata": {},
   "cell_type": "markdown",
   "source": "# get predictions",
   "id": "b3171cb78eb7466b"
  },
  {
   "metadata": {},
   "cell_type": "code",
   "outputs": [],
   "execution_count": null,
   "source": [
    "structex.flow(\n",
    "    free_text = \"\"\n",
    ")"
   ],
   "id": "4e76d393706f1ad5"
  },
  {
   "metadata": {},
   "cell_type": "code",
   "outputs": [],
   "execution_count": null,
   "source": "structex.gui()  # open gui",
   "id": "d4765552e054ba66"
  },
  {
   "metadata": {},
   "cell_type": "markdown",
   "source": "# get AI assistant help",
   "id": "adf6c9344480a53d"
  },
  {
   "metadata": {},
   "cell_type": "code",
   "outputs": [],
   "execution_count": null,
   "source": [
    "structex.Luminary()\n",
    "# will open an interactive window (or like help() in the console), and using llm_directory model it will help him to solve problems"
   ],
   "id": "729010625b6741c7"
  }
 ],
 "metadata": {
  "kernelspec": {
   "display_name": "Python 3",
   "language": "python",
   "name": "python3"
  },
  "language_info": {
   "codemirror_mode": {
    "name": "ipython",
    "version": 2
   },
   "file_extension": ".py",
   "mimetype": "text/x-python",
   "name": "python",
   "nbconvert_exporter": "python",
   "pygments_lexer": "ipython2",
   "version": "2.7.6"
  }
 },
 "nbformat": 4,
 "nbformat_minor": 5
}
