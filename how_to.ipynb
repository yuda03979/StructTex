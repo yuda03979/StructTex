{
 "cells": [
  {
   "cell_type": "code",
   "execution_count": null,
   "id": "initial_id",
   "metadata": {
    "collapsed": true
   },
   "outputs": [],
   "source": "import StrucTex"
  },
  {
   "metadata": {},
   "cell_type": "code",
   "outputs": [],
   "execution_count": null,
   "source": [
    "structex = StrucTex(\n",
    "    project_directory = \"\",\n",
    ")"
   ],
   "id": "8c0481d83257f7da"
  },
  {
   "metadata": {},
   "cell_type": "code",
   "outputs": [],
   "execution_count": null,
   "source": [
    "structex.help()\n",
    "# will open an interactive window (or like help() in the console), and using llm model it will help him to solve problems"
   ],
   "id": "3842abd249f267c7"
  },
  {
   "metadata": {},
   "cell_type": "code",
   "outputs": [],
   "execution_count": null,
   "source": [
    "structex.rag(\n",
    "    task = \"\",\n",
    "    model_name = \"\",\n",
    "    model_path = \"\",\n",
    ")\n",
    "\n",
    "structex.rag.prompt(\n",
    "    prompt = \"\",\n",
    "    variables = {}\n",
    ")"
   ],
   "id": "d7871d04bdd78060"
  },
  {
   "metadata": {},
   "cell_type": "code",
   "outputs": [],
   "execution_count": null,
   "source": [
    "structex.generate(\n",
    "    task = \"\",\n",
    "    model_name = \"\",\n",
    "    model_path = \"\"\n",
    ")\n",
    "\n",
    "structex.generate.prompt(\n",
    "    prompt = \"\",\n",
    "    variables = {}\n",
    ")"
   ],
   "id": "e1651f1cd155e001"
  },
  {
   "metadata": {},
   "cell_type": "code",
   "outputs": [],
   "execution_count": null,
   "source": [
    "structex.add_type(\n",
    "    file_path = \"\"\n",
    ")"
   ],
   "id": "ad0c6081b9ad2532"
  },
  {
   "metadata": {},
   "cell_type": "code",
   "outputs": [],
   "execution_count": null,
   "source": [
    "structex.invoke(\n",
    "    free_text = \"\"\n",
    ") # return dict"
   ],
   "id": "4e76d393706f1ad5"
  },
  {
   "metadata": {},
   "cell_type": "code",
   "outputs": [],
   "execution_count": null,
   "source": "structex.gui()  # open gui",
   "id": "d4765552e054ba66"
  }
 ],
 "metadata": {
  "kernelspec": {
   "display_name": "Python 3",
   "language": "python",
   "name": "python3"
  },
  "language_info": {
   "codemirror_mode": {
    "name": "ipython",
    "version": 2
   },
   "file_extension": ".py",
   "mimetype": "text/x-python",
   "name": "python",
   "nbconvert_exporter": "python",
   "pygments_lexer": "ipython2",
   "version": "2.7.6"
  }
 },
 "nbformat": 4,
 "nbformat_minor": 5
}
