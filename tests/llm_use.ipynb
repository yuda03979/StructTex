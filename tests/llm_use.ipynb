{
 "cells": [
  {
   "cell_type": "code",
   "id": "initial_id",
   "metadata": {
    "collapsed": true,
    "ExecuteTime": {
     "end_time": "2024-12-12T14:30:38.442921Z",
     "start_time": "2024-12-12T14:30:38.012353Z"
    }
   },
   "source": "from core.llm import LLM",
   "outputs": [],
   "execution_count": 1
  },
  {
   "metadata": {
    "ExecuteTime": {
     "end_time": "2024-12-12T14:30:40.220603Z",
     "start_time": "2024-12-12T14:30:38.449588Z"
    }
   },
   "cell_type": "code",
   "source": "llm = LLM(model_name=\"gemma\")",
   "id": "cc67435074a7bf50",
   "outputs": [
    {
     "name": "stderr",
     "output_type": "stream",
     "text": [
      "\u001B[?25ltransferring model data ⠙ \u001B[?25h\u001B[?25l\u001B[2K\u001B[1Gtransferring model data ⠙ \u001B[?25h\u001B[?25l\u001B[2K\u001B[1Gtransferring model data ⠸ \u001B[?25h\u001B[?25l\u001B[2K\u001B[1Gtransferring model data ⠸ \u001B[?25h\u001B[?25l\u001B[2K\u001B[1Gtransferring model data ⠼ \u001B[?25h\u001B[?25l\u001B[2K\u001B[1Gtransferring model data ⠴ \u001B[?25h\u001B[?25l\u001B[2K\u001B[1Gtransferring model data ⠦ \u001B[?25h\u001B[?25l\u001B[2K\u001B[1Gtransferring model data ⠧ \u001B[?25h\u001B[?25l\u001B[2K\u001B[1Gtransferring model data ⠏ \u001B[?25h\u001B[?25l\u001B[2K\u001B[1Gtransferring model data ⠏ \u001B[?25h\u001B[?25l\u001B[2K\u001B[1Gtransferring model data ⠙ \u001B[?25h\u001B[?25l\u001B[2K\u001B[1Gtransferring model data ⠙ \u001B[?25h\u001B[?25l\u001B[2K\u001B[1Gtransferring model data ⠹ \u001B[?25h\u001B[?25l\u001B[2K\u001B[1Gtransferring model data ⠼ \u001B[?25h\u001B[?25l\u001B[2K\u001B[1Gtransferring model data ⠴ \u001B[?25h"
     ]
    },
    {
     "name": "stdout",
     "output_type": "stream",
     "text": [
      "Model 'gemma' created successfully.\n",
      "Temporary Modelfile '/var/folders/tw/t4_6l2cn5hz3hqm6tjzgwk5c0000gn/T/tmp6fb64j29' deleted.\n",
      "<llm_directory.gemma.Gemma object at 0x10a47eed0>\n"
     ]
    },
    {
     "name": "stderr",
     "output_type": "stream",
     "text": [
      "\u001B[?25l\u001B[2K\u001B[1Gtransferring model data ⠦ \u001B[?25h\u001B[?25l\u001B[2K\u001B[1Gtransferring model data 100% ⠦ \u001B[?25h\u001B[?25l\u001B[2K\u001B[1Gtransferring model data 100% \n",
      "using existing layer sha256:2d448a9aab894b8e8e18168cf3f490cb9f65632222f29f93514ac9ecc754debe \n",
      "using autodetected template gemma-instruct \n",
      "using existing layer sha256:2490e7468436707d5156d7959cf3c6341cc46ee323084cfa3fcf30fe76e397dc \n",
      "using existing layer sha256:f2ea0c10a5df22dd2c7209ea073621e492317e6bbf3821c3d8fe86c1710ca435 \n",
      "writing manifest \n",
      "success \u001B[?25h\n"
     ]
    }
   ],
   "execution_count": 2
  },
  {
   "metadata": {
    "ExecuteTime": {
     "end_time": "2024-12-12T14:30:41.935721Z",
     "start_time": "2024-12-12T14:30:40.266720Z"
    }
   },
   "cell_type": "code",
   "source": "llm.apply(params=[{\"text\": \"What color is the sky at different times of the day? Respond using JSON\"}])",
   "id": "be828137a0928f16",
   "outputs": [
    {
     "name": "stdout",
     "output_type": "stream",
     "text": [
      "Response:\n",
      "{'model': 'gemma', 'created_at': '2024-12-12T14:30:41.910111Z', 'response': '{\\n  \"time\": \"Sunrise\",\\n  \"color\": \"Orange, Red, Pink\"\\n}\\n\\n \\n  \\n  \\n  \\n  \\n  \\n  \\n  \\n  \\n  \\n  \\n  \\n  \\n  \\n  \\n', 'done': False}\n"
     ]
    },
    {
     "data": {
      "text/plain": [
       "(0,\n",
       " (0,\n",
       "  {'model': 'gemma',\n",
       "   'created_at': '2024-12-12T14:30:41.910111Z',\n",
       "   'response': '{\\n  \"time\": \"Sunrise\",\\n  \"color\": \"Orange, Red, Pink\"\\n}\\n\\n \\n  \\n  \\n  \\n  \\n  \\n  \\n  \\n  \\n  \\n  \\n  \\n  \\n  \\n  \\n',\n",
       "   'done': False}))"
      ]
     },
     "execution_count": 3,
     "metadata": {},
     "output_type": "execute_result"
    }
   ],
   "execution_count": 3
  },
  {
   "metadata": {},
   "cell_type": "code",
   "outputs": [],
   "execution_count": null,
   "source": "",
   "id": "32836c1cc025b8e2"
  }
 ],
 "metadata": {
  "kernelspec": {
   "display_name": "Python 3",
   "language": "python",
   "name": "python3"
  },
  "language_info": {
   "codemirror_mode": {
    "name": "ipython",
    "version": 2
   },
   "file_extension": ".py",
   "mimetype": "text/x-python",
   "name": "python",
   "nbconvert_exporter": "python",
   "pygments_lexer": "ipython2",
   "version": "2.7.6"
  }
 },
 "nbformat": 4,
 "nbformat_minor": 5
}
